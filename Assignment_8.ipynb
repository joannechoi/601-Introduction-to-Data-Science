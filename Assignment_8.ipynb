{
 "cells": [
  {
   "cell_type": "markdown",
   "id": "convertible-stock",
   "metadata": {},
   "source": [
    "**Part 1:** Acquire power data (source) for at least 10 days and not more than 40 days. Load the data into a Jupyter Notebook. Create two bar graphs of the power consumption per hour. One bar graph has 24 bars; one bar graph has 24*(number of days) bars. Submit the .ipynb file containing the analysis and the generated pictures."
   ]
  },
  {
   "cell_type": "code",
   "execution_count": 1,
   "id": "hundred-generator",
   "metadata": {},
   "outputs": [],
   "source": [
    "import pandas as pd\n",
    "import os\n",
    "from datetime import datetime\n",
    "import matplotlib.pyplot as plt\n",
    "import timeit"
   ]
  },
  {
   "cell_type": "code",
   "execution_count": 2,
   "id": "aware-reach",
   "metadata": {},
   "outputs": [],
   "source": [
    "# set start time\n",
    "\n",
    "start_time1 = timeit.default_timer()"
   ]
  },
  {
   "cell_type": "code",
   "execution_count": 3,
   "id": "numerous-corrections",
   "metadata": {},
   "outputs": [],
   "source": [
    "# load data into jupyter notebook\n",
    "\n",
    "# date range - 1/1/21 through 1/6/21\n",
    "path_to_file1 = (r'C:\\Users\\HaChoi\\School\\input_data\\RollingSystemDemand_20210328_0153.csv')\n",
    "\n",
    "# date range - 1/7/21 through 1/12/21\n",
    "path_to_file2 = (r'C:\\Users\\HaChoi\\School\\input_data\\RollingSystemDemand_20210328_0153 (1).csv')\n",
    "\n",
    "# date range - 1/13/21 through 1/18/21\n",
    "path_to_file3 = (r'C:\\Users\\HaChoi\\School\\input_data\\RollingSystemDemand_20210328_0154.csv')\n",
    "\n",
    "# date range - 1/19/21 through 1/24/21\n",
    "path_to_file4 = (r'C:\\Users\\HaChoi\\School\\input_data\\RollingSystemDemand_20210328_0154 (1).csv')\n",
    "\n",
    "# date range - 1/25/21 through 1/30/21\n",
    "path_to_file5 = (r'C:\\Users\\HaChoi\\School\\input_data\\RollingSystemDemand_20210328_0154 (2).csv')\n",
    "\n",
    "# date range - 1/31/21\n",
    "path_to_file6 = (r'C:\\Users\\HaChoi\\School\\input_data\\RollingSystemDemand_20210328_0154 (3).csv')\n",
    "\n",
    "# read csv files with pandas\n",
    "headers = ['0','Date_Time', 'Energy Consumption']\n",
    "input_file1 = pd.read_csv(path_to_file1, names = headers)\n",
    "input_file2 = pd.read_csv(path_to_file2, names = headers)\n",
    "input_file3 = pd.read_csv(path_to_file3, names = headers)\n",
    "input_file4 = pd.read_csv(path_to_file4, names = headers)\n",
    "input_file5 = pd.read_csv(path_to_file5, names = headers)\n",
    "input_file6 = pd.read_csv(path_to_file6, names = headers)"
   ]
  },
  {
   "cell_type": "code",
   "execution_count": 4,
   "id": "thirty-vintage",
   "metadata": {},
   "outputs": [
    {
     "data": {
      "text/html": [
       "<div>\n",
       "<style scoped>\n",
       "    .dataframe tbody tr th:only-of-type {\n",
       "        vertical-align: middle;\n",
       "    }\n",
       "\n",
       "    .dataframe tbody tr th {\n",
       "        vertical-align: top;\n",
       "    }\n",
       "\n",
       "    .dataframe thead th {\n",
       "        text-align: right;\n",
       "    }\n",
       "</style>\n",
       "<table border=\"1\" class=\"dataframe\">\n",
       "  <thead>\n",
       "    <tr style=\"text-align: right;\">\n",
       "      <th></th>\n",
       "      <th>0</th>\n",
       "      <th>Date_Time</th>\n",
       "      <th>Energy Consumption</th>\n",
       "    </tr>\n",
       "  </thead>\n",
       "  <tbody>\n",
       "    <tr>\n",
       "      <th>1</th>\n",
       "      <td>VD</td>\n",
       "      <td>20210101000000</td>\n",
       "      <td>28762.0</td>\n",
       "    </tr>\n",
       "    <tr>\n",
       "      <th>2</th>\n",
       "      <td>VD</td>\n",
       "      <td>20210101000500</td>\n",
       "      <td>28859.0</td>\n",
       "    </tr>\n",
       "    <tr>\n",
       "      <th>3</th>\n",
       "      <td>VD</td>\n",
       "      <td>20210101001000</td>\n",
       "      <td>28962.0</td>\n",
       "    </tr>\n",
       "    <tr>\n",
       "      <th>4</th>\n",
       "      <td>VD</td>\n",
       "      <td>20210101001500</td>\n",
       "      <td>28992.0</td>\n",
       "    </tr>\n",
       "    <tr>\n",
       "      <th>5</th>\n",
       "      <td>VD</td>\n",
       "      <td>20210101002000</td>\n",
       "      <td>28898.0</td>\n",
       "    </tr>\n",
       "  </tbody>\n",
       "</table>\n",
       "</div>"
      ],
      "text/plain": [
       "    0       Date_Time  Energy Consumption\n",
       "1  VD  20210101000000             28762.0\n",
       "2  VD  20210101000500             28859.0\n",
       "3  VD  20210101001000             28962.0\n",
       "4  VD  20210101001500             28992.0\n",
       "5  VD  20210101002000             28898.0"
      ]
     },
     "execution_count": 4,
     "metadata": {},
     "output_type": "execute_result"
    }
   ],
   "source": [
    "# erase last row\n",
    "data1 = input_file1[1:-1]\n",
    "data2 = input_file2[1:-1]\n",
    "data3 = input_file3[1:-1]\n",
    "data4 = input_file4[1:-1]\n",
    "data5 = input_file5[1:-1]\n",
    "data6 = input_file6[1:-1]\n",
    "\n",
    "# merge two files \n",
    "merge_df = [data1, data2, data3, data4, data5, data6]\n",
    "df1 = pd.concat(merge_df)\n",
    "\n",
    "df1.head()"
   ]
  },
  {
   "cell_type": "code",
   "execution_count": 5,
   "id": "artistic-pepper",
   "metadata": {},
   "outputs": [
    {
     "data": {
      "text/html": [
       "<div>\n",
       "<style scoped>\n",
       "    .dataframe tbody tr th:only-of-type {\n",
       "        vertical-align: middle;\n",
       "    }\n",
       "\n",
       "    .dataframe tbody tr th {\n",
       "        vertical-align: top;\n",
       "    }\n",
       "\n",
       "    .dataframe thead th {\n",
       "        text-align: right;\n",
       "    }\n",
       "</style>\n",
       "<table border=\"1\" class=\"dataframe\">\n",
       "  <thead>\n",
       "    <tr style=\"text-align: right;\">\n",
       "      <th></th>\n",
       "      <th>Date_Time</th>\n",
       "      <th>Energy Consumption</th>\n",
       "    </tr>\n",
       "  </thead>\n",
       "  <tbody>\n",
       "    <tr>\n",
       "      <th>1</th>\n",
       "      <td>20210101000000</td>\n",
       "      <td>28762.0</td>\n",
       "    </tr>\n",
       "    <tr>\n",
       "      <th>2</th>\n",
       "      <td>20210101000500</td>\n",
       "      <td>28859.0</td>\n",
       "    </tr>\n",
       "    <tr>\n",
       "      <th>3</th>\n",
       "      <td>20210101001000</td>\n",
       "      <td>28962.0</td>\n",
       "    </tr>\n",
       "    <tr>\n",
       "      <th>4</th>\n",
       "      <td>20210101001500</td>\n",
       "      <td>28992.0</td>\n",
       "    </tr>\n",
       "    <tr>\n",
       "      <th>5</th>\n",
       "      <td>20210101002000</td>\n",
       "      <td>28898.0</td>\n",
       "    </tr>\n",
       "  </tbody>\n",
       "</table>\n",
       "</div>"
      ],
      "text/plain": [
       "        Date_Time  Energy Consumption\n",
       "1  20210101000000             28762.0\n",
       "2  20210101000500             28859.0\n",
       "3  20210101001000             28962.0\n",
       "4  20210101001500             28992.0\n",
       "5  20210101002000             28898.0"
      ]
     },
     "execution_count": 5,
     "metadata": {},
     "output_type": "execute_result"
    }
   ],
   "source": [
    "# clean dataframe - drop first column and rename rest of the columns\n",
    "\n",
    "clean_df1 = df1.drop('0', 1).rename(columns = {'1':'Date_Time', '2':'Energy Consumption'})\n",
    "\n",
    "clean_df1.head()"
   ]
  },
  {
   "cell_type": "code",
   "execution_count": 6,
   "id": "reserved-nitrogen",
   "metadata": {},
   "outputs": [
    {
     "data": {
      "text/plain": [
       "Date_Time             datetime64[ns]\n",
       "Energy Consumption           float64\n",
       "Hour                           int64\n",
       "Date                          object\n",
       "dtype: object"
      ]
     },
     "execution_count": 6,
     "metadata": {},
     "output_type": "execute_result"
    }
   ],
   "source": [
    "# split out date and time into date and hour\n",
    "\n",
    "clean_df1['Date_Time'] = pd.to_datetime(clean_df1['Date_Time'])\n",
    "clean_df1['Hour'] = clean_df1['Date_Time'].dt.hour\n",
    "clean_df1['Date'] = (clean_df1['Date_Time'].dt.strftime('%m-%d'))\n",
    "\n",
    "clean_df1.dtypes"
   ]
  },
  {
   "cell_type": "code",
   "execution_count": 7,
   "id": "established-lodge",
   "metadata": {},
   "outputs": [
    {
     "data": {
      "image/png": "[encoded data removed]",
      "text/plain": [
       "<Figure size 864x576 with 1 Axes>"
      ]
     },
     "metadata": {
      "needs_background": "light"
     },
     "output_type": "display_data"
    }
   ],
   "source": [
    "# create bar chart for average hourly consumption \n",
    "\n",
    "hourly_grouped = clean_df1.groupby(['Hour'])['Energy Consumption'].mean()\n",
    "hourly_grouped.plot.bar(x=\"Hour\", y=\"Energy Consumption\", figsize = (12,8), color = 'orange')\n",
    "\n",
    "plt.title(\"Average Hourly Consumption for January\")\n",
    "plt.xlabel(\"Hours (24hr)\")\n",
    "plt.ylabel(\"Energy Consumption\")\n",
    "plt.show()"
   ]
  },
  {
   "cell_type": "code",
   "execution_count": 8,
   "id": "defined-paradise",
   "metadata": {},
   "outputs": [
    {
     "data": {
      "image/png": "[encoded data removed]",
      "text/plain": [
       "<Figure size 864x576 with 1 Axes>"
      ]
     },
     "metadata": {
      "needs_background": "light"
     },
     "output_type": "display_data"
    }
   ],
   "source": [
    "# create bar chart for average daily consumption \n",
    "\n",
    "daily_grouped = clean_df1.groupby(['Date'])['Energy Consumption'].mean()\n",
    "daily_grouped.plot.bar(x=\"Date\", y=\"Energy Consumption\", figsize = (12,8))\n",
    "\n",
    "plt.title(\"Average Daily Consumption for January\")\n",
    "plt.xlabel(\"Date\")\n",
    "plt.ylabel(\"Energy Consumption\")\n",
    "plt.show()"
   ]
  },
  {
   "cell_type": "code",
   "execution_count": 9,
   "id": "circular-practitioner",
   "metadata": {},
   "outputs": [
    {
     "name": "stdout",
     "output_type": "stream",
     "text": [
      "Elapsed Time: 2.3526344000000003\n"
     ]
    }
   ],
   "source": [
    "# calculate elapsed time for the original notebook\n",
    "\n",
    "elapsed1 = timeit.default_timer()-start_time1\n",
    "print('Elapsed Time:', elapsed1)"
   ]
  },
  {
   "cell_type": "code",
   "execution_count": 10,
   "id": "purple-arizona",
   "metadata": {},
   "outputs": [],
   "source": [
    "# start time for the refactored notebook\n",
    "\n",
    "start_time2 = timeit.default_timer()"
   ]
  },
  {
   "cell_type": "code",
   "execution_count": 11,
   "id": "mexican-calculation",
   "metadata": {
    "scrolled": false
   },
   "outputs": [],
   "source": [
    "# load data into jupyter notebook\n",
    "\n",
    "os.chdir(\"C://Users/HaChoi/School/input_data\")\n",
    "data_files = os.listdir()\n",
    "\n",
    "data = []\n",
    "headers = ['0','Date_Time', 'Energy Consumption']\n",
    "\n",
    "for file in data_files:\n",
    "    raw_data = pd.read_csv(file, skipfooter = 1, names = headers, skiprows = 1, engine = 'python')\n",
    "    data.append(raw_data)\n",
    "\n",
    "df2 = pd.concat(data).drop('0', 1)"
   ]
  },
  {
   "cell_type": "code",
   "execution_count": 12,
   "id": "appreciated-delhi",
   "metadata": {},
   "outputs": [
    {
     "data": {
      "text/plain": [
       "Date_Time             datetime64[ns]\n",
       "Energy Consumption             int64\n",
       "Hour                           int64\n",
       "Date                          object\n",
       "dtype: object"
      ]
     },
     "execution_count": 12,
     "metadata": {},
     "output_type": "execute_result"
    }
   ],
   "source": [
    "# split out date and time into date and hour\n",
    "\n",
    "df2['Date_Time'] = pd.to_datetime(df2['Date_Time'], format ='%Y%m%d%H%M%S')\n",
    "df2['Hour'] = df2['Date_Time'].dt.hour\n",
    "df2['Date'] = (df2['Date_Time'].dt.strftime('%m-%d'))\n",
    "\n",
    "df2.dtypes"
   ]
  },
  {
   "cell_type": "code",
   "execution_count": 13,
   "id": "minor-console",
   "metadata": {},
   "outputs": [
    {
     "data": {
      "image/png": "[encoded data removed]",
      "text/plain": [
       "<Figure size 864x576 with 1 Axes>"
      ]
     },
     "metadata": {
      "needs_background": "light"
     },
     "output_type": "display_data"
    }
   ],
   "source": [
    "# create bar chart for average hourly consumption \n",
    "\n",
    "hourly_grouped = df2.groupby(['Hour'])['Energy Consumption'].mean()\n",
    "hourly_grouped.plot.bar(x=\"Hour\", y=\"Energy Consumption\", figsize = (12,8), color = 'orange')\n",
    "\n",
    "plt.title(\"Average Hourly Consumption for January\")\n",
    "plt.xlabel(\"Hours (24hr)\")\n",
    "plt.ylabel(\"Energy Consumption\")\n",
    "plt.show()"
   ]
  },
  {
   "cell_type": "code",
   "execution_count": 14,
   "id": "sapphire-clone",
   "metadata": {
    "scrolled": false
   },
   "outputs": [
    {
     "data": {
      "image/png": "[encoded data removed]",
      "text/plain": [
       "<Figure size 864x576 with 1 Axes>"
      ]
     },
     "metadata": {
      "needs_background": "light"
     },
     "output_type": "display_data"
    }
   ],
   "source": [
    "# create bar chart for average daily consumption \n",
    "\n",
    "daily_grouped = df2.groupby(['Date'])['Energy Consumption'].mean()\n",
    "daily_grouped.plot.bar(x=\"Date\", y=\"Energy Consumption\", figsize = (12,8))\n",
    "\n",
    "plt.title(\"Average Daily Consumption for January\")\n",
    "plt.xlabel(\"Date\")\n",
    "plt.ylabel(\"Energy Consumption\")\n",
    "plt.show()"
   ]
  },
  {
   "cell_type": "code",
   "execution_count": 15,
   "id": "working-savage",
   "metadata": {},
   "outputs": [
    {
     "name": "stdout",
     "output_type": "stream",
     "text": [
      "Elapsed Time: 1.3363366\n"
     ]
    }
   ],
   "source": [
    "# calculate elapsed time \n",
    "\n",
    "elapsed2 = timeit.default_timer()-start_time2\n",
    "print('Elapsed Time:', elapsed2)"
   ]
  },
  {
   "cell_type": "code",
   "execution_count": 16,
   "id": "liable-dietary",
   "metadata": {},
   "outputs": [
    {
     "name": "stdout",
     "output_type": "stream",
     "text": [
      "Refactoring the code improved runtime by 1.016 seconds.\n"
     ]
    }
   ],
   "source": [
    "# final results \n",
    "\n",
    "time_diff = elapsed1 - elapsed2\n",
    "print('Refactoring the code improved runtime by', round(time_diff,3), 'seconds.')"
   ]
  }
 ],
 "metadata": {
  "kernelspec": {
   "display_name": "Python 3",
   "language": "python",
   "name": "python3"
  },
  "language_info": {
   "codemirror_mode": {
    "name": "ipython",
    "version": 3
   },
   "file_extension": ".py",
   "mimetype": "text/x-python",
   "name": "python",
   "nbconvert_exporter": "python",
   "pygments_lexer": "ipython3",
   "version": "3.8.5"
  }
 },
 "nbformat": 4,
 "nbformat_minor": 5
}
