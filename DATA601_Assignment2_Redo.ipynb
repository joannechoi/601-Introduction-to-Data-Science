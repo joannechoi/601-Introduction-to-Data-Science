{
 "cells": [
  {
   "cell_type": "markdown",
   "metadata": {},
   "source": [
    "## Problem 1\n",
    "\n",
    "Write a function that returns the count of characters and words in a string. The string is provided to the function as an argument."
   ]
  },
  {
   "cell_type": "code",
   "execution_count": 44,
   "metadata": {},
   "outputs": [
    {
     "name": "stdout",
     "output_type": "stream",
     "text": [
      "Number of characters: 11 ; Number of words: 4\n"
     ]
    }
   ],
   "source": [
    "def count_variables(text):\n",
    "    return print('Number of characters:', (len(text) - text.count(' ')), '; Number of words:', (len(text.split())))\n",
    "\n",
    "count_variables('this is a test')"
   ]
  },
  {
   "cell_type": "markdown",
   "metadata": {},
   "source": [
    "## Problem 2 \n",
    "\n",
    "Write a function that takes a list as the argument and returns a list with each element shifted right by one index. "
   ]
  },
  {
   "cell_type": "code",
   "execution_count": 45,
   "metadata": {},
   "outputs": [
    {
     "data": {
      "text/plain": [
       "[3, 1, 2]"
      ]
     },
     "execution_count": 45,
     "metadata": {},
     "output_type": "execute_result"
    }
   ],
   "source": [
    "def shift_list(nums):\n",
    "    return [nums[-1]] + nums[:-1]\n",
    "\n",
    "shift_list([1, 2, 3])"
   ]
  },
  {
   "cell_type": "markdown",
   "metadata": {},
   "source": [
    "## Problem 3\n",
    "\n",
    "1. Download data in CSV format from one of the following sites: here or here. \n",
    "2. Load the data into a Pandas dataframe. \n",
    "3. Use Pandas to count the number of rows of data and number of columns. \n",
    "4. Your selection of a CSV should have at least 2 columns and at least 10 rows. \n",
    "5. Include a link to the data source in the Juptyer notebook you submit.\n",
    "\n",
    "Data Source: https://people.sc.fsu.edu/~jburkardt/data/csv/zillow.csv"
   ]
  },
  {
   "cell_type": "code",
   "execution_count": 43,
   "metadata": {},
   "outputs": [
    {
     "name": "stdout",
     "output_type": "stream",
     "text": [
      "Number of rows: 20 ; Number of columns: 7\n"
     ]
    }
   ],
   "source": [
    "import pandas as pd\n",
    "\n",
    "data = pd.read_csv(\"zillow.csv\")\n",
    "print('Number of rows:', data.shape[0], '; Number of columns:', data.shape[1])"
   ]
  }
 ],
 "metadata": {
  "kernelspec": {
   "display_name": "Python 3",
   "language": "python",
   "name": "python3"
  },
  "language_info": {
   "codemirror_mode": {
    "name": "ipython",
    "version": 3
   },
   "file_extension": ".py",
   "mimetype": "text/x-python",
   "name": "python",
   "nbconvert_exporter": "python",
   "pygments_lexer": "ipython3",
   "version": "3.8.5"
  }
 },
 "nbformat": 4,
 "nbformat_minor": 4
}
