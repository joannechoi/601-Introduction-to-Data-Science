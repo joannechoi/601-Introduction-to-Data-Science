{
 "cells": [
  {
   "cell_type": "markdown",
   "id": "explicit-keyboard",
   "metadata": {},
   "source": [
    "**Part 2:** Simulate a fair die and a biased 6-sided die. The biased die has probabilities {0.15, 0.15, 0.15, 0.15, 0.15, 0.25}. Create a visualization that compares outcomes of multiple rolls of a fair die and this biased die. You can use a single visualization or multiple visualizations to demonstrate the difference in outcomes for the dice. The user of your notebook should be able to alter the number of simulations as an argument to a function. (Help on visualization)"
   ]
  },
  {
   "cell_type": "code",
   "execution_count": 1,
   "id": "three-trader",
   "metadata": {},
   "outputs": [],
   "source": [
    "import random\n",
    "import seaborn as sns\n",
    "import matplotlib.pyplot as plt"
   ]
  },
  {
   "cell_type": "code",
   "execution_count": 2,
   "id": "silver-exemption",
   "metadata": {},
   "outputs": [],
   "source": [
    "# create a function to visualize fair dice simulation \n",
    "\n",
    "def fair_roll(f_roll):\n",
    "    f_results = []\n",
    "    for i in range(f_roll):\n",
    "        f_result = random.randint(1,6)\n",
    "        f_results.append(f_result)\n",
    "    print(f_results)\n",
    "    \n",
    "    #graph the results\n",
    "    sns.countplot(x = f_results)\n",
    "    plt.title(\"Fair Dice Roll Outcome\")\n",
    "    plt.xlabel(\"Sides\")\n",
    "    plt.ylabel(\"Roll Count\")\n",
    "    plt.show()"
   ]
  },
  {
   "cell_type": "code",
   "execution_count": 3,
   "id": "authorized-demographic",
   "metadata": {},
   "outputs": [
    {
     "name": "stdout",
     "output_type": "stream",
     "text": [
      "Enter number of simulation: 100\n",
      "[6, 3, 4, 2, 4, 6, 5, 3, 2, 5, 4, 6, 3, 1, 4, 6, 5, 6, 4, 1, 5, 6, 3, 5, 6, 2, 4, 1, 3, 4, 6, 4, 2, 2, 6, 2, 2, 1, 6, 1, 3, 5, 4, 1, 2, 3, 3, 2, 3, 3, 3, 4, 2, 6, 2, 3, 4, 6, 6, 5, 6, 6, 5, 3, 3, 1, 1, 1, 5, 3, 2, 3, 4, 2, 4, 5, 1, 1, 6, 6, 2, 6, 4, 1, 2, 2, 4, 5, 1, 1, 4, 3, 1, 6, 4, 5, 3, 2, 1, 6]\n"
     ]
    },
    {
     "data": {
      "image/png": "[encoded data removed]",
      "text/plain": [
       "<Figure size 432x288 with 1 Axes>"
      ]
     },
     "metadata": {
      "needs_background": "light"
     },
     "output_type": "display_data"
    }
   ],
   "source": [
    "# run simulation with user input\n",
    "\n",
    "f_sim = int(input('Enter number of simulation: '))\n",
    "fair_roll(f_sim)"
   ]
  },
  {
   "cell_type": "code",
   "execution_count": 4,
   "id": "mexican-commons",
   "metadata": {},
   "outputs": [],
   "source": [
    "# define probabilities of biased dice.\n",
    "\n",
    "biased = [0.15, 0.15, 0.15, 0.15, 0.15, 0.25]"
   ]
  },
  {
   "cell_type": "code",
   "execution_count": 5,
   "id": "infectious-think",
   "metadata": {},
   "outputs": [],
   "source": [
    "# create a function to visualize biased dice simulation \n",
    "\n",
    "def biased_roll(b_roll):\n",
    "    sides = [1, 2, 3, 4, 5, 6]\n",
    "    b_results = []\n",
    "    for i in range(b_roll):\n",
    "        b_result = random.choices(sides, weights = biased)\n",
    "        b_results.extend(b_result)\n",
    "    print(b_results)\n",
    "    \n",
    "    #graph the results\n",
    "    sns.countplot(x = b_results)\n",
    "    plt.title(\"Biased Dice Roll Outcome\")\n",
    "    plt.xlabel(\"Sides\")\n",
    "    plt.ylabel(\"Roll Count\")\n",
    "    plt.show()"
   ]
  },
  {
   "cell_type": "code",
   "execution_count": 6,
   "id": "irish-story",
   "metadata": {
    "scrolled": false
   },
   "outputs": [
    {
     "name": "stdout",
     "output_type": "stream",
     "text": [
      "Enter number of simulation: 100\n",
      "[1, 6, 6, 5, 6, 3, 1, 2, 4, 3, 3, 2, 6, 3, 3, 5, 5, 5, 6, 5, 5, 3, 5, 6, 1, 3, 6, 6, 6, 6, 5, 1, 5, 2, 6, 1, 3, 5, 5, 2, 1, 4, 6, 2, 1, 5, 4, 6, 3, 4, 1, 4, 3, 4, 4, 6, 2, 3, 6, 4, 6, 6, 4, 6, 3, 3, 6, 3, 3, 6, 4, 6, 1, 1, 2, 3, 2, 1, 5, 3, 1, 5, 3, 3, 2, 3, 3, 6, 4, 3, 4, 4, 6, 6, 3, 2, 2, 1, 6, 2]\n"
     ]
    },
    {
     "data": {
      "image/png": "[encoded data removed]",
      "text/plain": [
       "<Figure size 432x288 with 1 Axes>"
      ]
     },
     "metadata": {
      "needs_background": "light"
     },
     "output_type": "display_data"
    }
   ],
   "source": [
    "# run simulation with user input\n",
    "\n",
    "b_sim = int(input('Enter number of simulation: '))\n",
    "biased_roll(b_sim)"
   ]
  }
 ],
 "metadata": {
  "kernelspec": {
   "display_name": "Python 3",
   "language": "python",
   "name": "python3"
  },
  "language_info": {
   "codemirror_mode": {
    "name": "ipython",
    "version": 3
   },
   "file_extension": ".py",
   "mimetype": "text/x-python",
   "name": "python",
   "nbconvert_exporter": "python",
   "pygments_lexer": "ipython3",
   "version": "3.8.5"
  }
 },
 "nbformat": 4,
 "nbformat_minor": 5
}
